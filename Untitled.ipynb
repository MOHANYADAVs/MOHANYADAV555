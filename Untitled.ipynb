{
 "cells": [
  {
   "cell_type": "markdown",
   "id": "1710fecd",
   "metadata": {},
   "source": [
    "# SET DATATYPE"
   ]
  },
  {
   "cell_type": "markdown",
   "id": "9173e034",
   "metadata": {},
   "source": [
    "## we can create set object by using \"set()\" function"
   ]
  },
  {
   "cell_type": "markdown",
   "id": "a56a625d",
   "metadata": {},
   "source": [
    "## A Set is a group of unique values as a single entity "
   ]
  },
  {
   "cell_type": "markdown",
   "id": "618d1216",
   "metadata": {},
   "source": [
    "## set represents by a curly \"braces() \"and with comma seperation"
   ]
  },
  {
   "cell_type": "markdown",
   "id": "65c00dae",
   "metadata": {},
   "source": [
    "### dupliates are not allowed \n"
   ]
  },
  {
   "cell_type": "markdown",
   "id": "898cfbeb",
   "metadata": {},
   "source": [
    "### indexing and slicing are not allow "
   ]
  },
  {
   "cell_type": "markdown",
   "id": "b40e9544",
   "metadata": {},
   "source": [
    "insertion order is not preserved,but we can sort the elements "
   ]
  },
  {
   "cell_type": "markdown",
   "id": "ee1f6d82",
   "metadata": {},
   "source": [
    "hetrogeneous elements are allow \n"
   ]
  },
  {
   "cell_type": "markdown",
   "id": "4a86a85a",
   "metadata": {},
   "source": [
    "## set objects are mutable ,once we create set object we can perform any changes in that object based on our requrirement "
   ]
  },
  {
   "cell_type": "code",
   "execution_count": 6,
   "id": "09db43d1",
   "metadata": {},
   "outputs": [
    {
     "name": "stdout",
     "output_type": "stream",
     "text": [
      "set()\n"
     ]
    }
   ],
   "source": [
    "a = set()\n",
    "print(a)"
   ]
  },
  {
   "cell_type": "code",
   "execution_count": 7,
   "id": "6dd01f86",
   "metadata": {},
   "outputs": [
    {
     "name": "stdout",
     "output_type": "stream",
     "text": [
      "<class 'set'>\n"
     ]
    }
   ],
   "source": [
    "print(type(a))"
   ]
  },
  {
   "cell_type": "code",
   "execution_count": null,
   "id": "d7113d08",
   "metadata": {},
   "outputs": [],
   "source": []
  }
 ],
 "metadata": {
  "kernelspec": {
   "display_name": "Python 3 (ipykernel)",
   "language": "python",
   "name": "python3"
  },
  "language_info": {
   "codemirror_mode": {
    "name": "ipython",
    "version": 3
   },
   "file_extension": ".py",
   "mimetype": "text/x-python",
   "name": "python",
   "nbconvert_exporter": "python",
   "pygments_lexer": "ipython3",
   "version": "3.10.2"
  }
 },
 "nbformat": 4,
 "nbformat_minor": 5
}
