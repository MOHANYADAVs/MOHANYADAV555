{
 "cells": [
  {
   "cell_type": "code",
   "execution_count": 1,
   "id": "885ae9e4",
   "metadata": {},
   "outputs": [
    {
     "data": {
      "text/plain": [
       "4"
      ]
     },
     "execution_count": 1,
     "metadata": {},
     "output_type": "execute_result"
    }
   ],
   "source": [
    "4"
   ]
  },
  {
   "cell_type": "code",
   "execution_count": 2,
   "id": "3c9abef7",
   "metadata": {},
   "outputs": [
    {
     "data": {
      "text/plain": [
       "'mohan yadav'"
      ]
     },
     "execution_count": 2,
     "metadata": {},
     "output_type": "execute_result"
    }
   ],
   "source": [
    "\"mohan yadav\""
   ]
  },
  {
   "cell_type": "code",
   "execution_count": 3,
   "id": "ec6107e9",
   "metadata": {},
   "outputs": [
    {
     "data": {
      "text/plain": [
       "'nagur ramsh'"
      ]
     },
     "execution_count": 3,
     "metadata": {},
     "output_type": "execute_result"
    }
   ],
   "source": [
    "\"nagur ramsh\""
   ]
  },
  {
   "cell_type": "code",
   "execution_count": 4,
   "id": "900dc6f1",
   "metadata": {},
   "outputs": [],
   "source": [
    "a = 10\n",
    "b = 40"
   ]
  },
  {
   "cell_type": "code",
   "execution_count": 5,
   "id": "ec3dcc56",
   "metadata": {},
   "outputs": [
    {
     "data": {
      "text/plain": [
       "50"
      ]
     },
     "execution_count": 5,
     "metadata": {},
     "output_type": "execute_result"
    }
   ],
   "source": [
    "a+b"
   ]
  },
  {
   "cell_type": "code",
   "execution_count": 6,
   "id": "9959302e",
   "metadata": {},
   "outputs": [
    {
     "data": {
      "text/plain": [
       "-30"
      ]
     },
     "execution_count": 6,
     "metadata": {},
     "output_type": "execute_result"
    }
   ],
   "source": [
    "a-b"
   ]
  },
  {
   "cell_type": "code",
   "execution_count": 7,
   "id": "c1d55136",
   "metadata": {},
   "outputs": [
    {
     "data": {
      "text/plain": [
       "400"
      ]
     },
     "execution_count": 7,
     "metadata": {},
     "output_type": "execute_result"
    }
   ],
   "source": [
    "a*b"
   ]
  },
  {
   "cell_type": "code",
   "execution_count": 8,
   "id": "722c70d0",
   "metadata": {},
   "outputs": [
    {
     "data": {
      "text/plain": [
       "0.25"
      ]
     },
     "execution_count": 8,
     "metadata": {},
     "output_type": "execute_result"
    }
   ],
   "source": [
    "a/b"
   ]
  },
  {
   "cell_type": "code",
   "execution_count": 9,
   "id": "aa61a3ac",
   "metadata": {},
   "outputs": [
    {
     "data": {
      "text/plain": [
       "10"
      ]
     },
     "execution_count": 9,
     "metadata": {},
     "output_type": "execute_result"
    }
   ],
   "source": [
    "a%b"
   ]
  },
  {
   "cell_type": "code",
   "execution_count": 4,
   "id": "523832cb",
   "metadata": {},
   "outputs": [
    {
     "name": "stdout",
     "output_type": "stream",
     "text": [
      "75040343697303047\n"
     ]
    },
    {
     "data": {
      "text/plain": [
       "[7, 5, 0, 4, 0, 3, 4, 3, 6, 9, 7, 3, 0, 3, 0, 4, 7]"
      ]
     },
     "execution_count": 4,
     "metadata": {},
     "output_type": "execute_result"
    }
   ],
   "source": [
    "num = list(map(int,input()))\n",
    "num"
   ]
  },
  {
   "cell_type": "code",
   "execution_count": 8,
   "id": "6398ee58",
   "metadata": {},
   "outputs": [],
   "source": [
    "num.sort()\n",
    "v = str(num)"
   ]
  },
  {
   "cell_type": "code",
   "execution_count": null,
   "id": "8e1953eb",
   "metadata": {},
   "outputs": [],
   "source": [
    "rec = {}\n",
    "n = int(input(\"enter number of students : \"))\n",
    "i=1\n",
    "while i<=n:\n",
    "    v = input(\"enter student name  : \")\n",
    "    p = int(input(\"enter your percentage : \"))\n",
    "    rec[v]=p\n",
    "    \n",
    "    i = i+1\n",
    "    #print(rec)\n",
    "print(\"name of the student\",\"\\t\",\"%of marks\")\n",
    "for x in rec:\n",
    "    print(\"\\t\",x,\"\\t\\t\",rec[x])\n",
    "    \n",
    "    "
   ]
  },
  {
   "cell_type": "code",
   "execution_count": null,
   "id": "1ba6d2a2",
   "metadata": {},
   "outputs": [],
   "source": []
  }
 ],
 "metadata": {
  "kernelspec": {
   "display_name": "Python 3 (ipykernel)",
   "language": "python",
   "name": "python3"
  },
  "language_info": {
   "codemirror_mode": {
    "name": "ipython",
    "version": 3
   },
   "file_extension": ".py",
   "mimetype": "text/x-python",
   "name": "python",
   "nbconvert_exporter": "python",
   "pygments_lexer": "ipython3",
   "version": "3.10.2"
  }
 },
 "nbformat": 4,
 "nbformat_minor": 5
}
